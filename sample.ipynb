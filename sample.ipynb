{
 "cells": [
  {
   "metadata": {
    "ExecuteTime": {
     "end_time": "2025-07-08T17:06:49.218681Z",
     "start_time": "2025-07-08T17:06:49.215661Z"
    }
   },
   "cell_type": "code",
   "source": [
    "# Импорт библиотек для работы с Apache Spark\n",
    "from pyspark.sql import SparkSession\n",
    "from pyspark.sql.types import DateType, StringType\n",
    "from pyspark.sql.functions import (\n",
    "    col, when, count, trim, udf, year, lower\n",
    ")\n",
    "\n",
    "# Импорт классов для подготовки признаков и кластеризации\n",
    "from pyspark.ml.feature import StringIndexer, VectorAssembler\n",
    "from pyspark.ml.clustering import KMeans\n",
    "from pyspark.ml import Pipeline\n",
    "\n",
    "# Работа с файловой системой и визуализация\n",
    "import os\n",
    "import shutil\n",
    "import matplotlib.pyplot as plt\n",
    "import datetime"
   ],
   "id": "fbc121e30a2defb3",
   "outputs": [],
   "execution_count": 2
  },
  {
   "metadata": {},
   "cell_type": "markdown",
   "source": [
    "# 🩺 Постановка задачи и описание данных\n",
    "\n",
    "## 🎯 Цель проекта\n",
    "\n",
    "Разработать аналитическую платформу для эпидемиологического мониторинга **COVID-19** на основе рентгеновских снимков, используя стек **Hadoop/Spark**.\n",
    "\n",
    "Источник данных:  \n",
    "📁 **COVID-19 Chest X-Ray Dataset**  \n",
    "🔗 [GitHub Repository](https://github.com/ieee8023/covid-chestxray-dataset/tree/master)\n",
    "\n",
    "---\n",
    "\n",
    "## 📊 Анализ структуры датасета\n",
    "\n",
    "### Общая информация:\n",
    "- Количество строк: **950**\n",
    "- Количество признаков: **29**\n",
    "\n",
    "---\n",
    "\n",
    "### 📌 Описание признаков:\n",
    "\n",
    "| №  | Признак                     | Описание                                             | Тип         |\n",
    "|----|-----------------------------|------------------------------------------------------|--------------|\n",
    "| 1  | `patientid`                | Уникальный идентификатор пациента                    | string       |\n",
    "| 2  | `offset`                   | Смещение по дням от даты первого снимка             | integer      |\n",
    "| 3  | `sex`                      | Пол пациента (M, F)                                  | string       |\n",
    "| 4  | `age`                      | Возраст пациента                                     | integer      |\n",
    "| 5  | `finding`                  | Диагноз/находка на снимке                            | string       |\n",
    "| 6  | `RT_PCR_positive`          | Результат ПЦР теста (Y/N)                            | string       |\n",
    "| 7  | `survival`                 | Пережил пациент или нет (Y/N)                        | string       |\n",
    "| 8  | `intubated`                | Был ли пациент интубирован                           | string       |\n",
    "| 9  | `intubation_present`       | Интубация на момент снимка                           | string       |\n",
    "| 10 | `went_icu`                 | Был ли в реанимации                                  | string       |\n",
    "| 11 | `in_icu`                   | В реанимации в момент снимка                         | string       |\n",
    "| 12 | `needed_supplemental_O2`   | Нуждался в кислороде                                 | string       |\n",
    "| 13 | `extubated`                | Был ли успешно экстубирован                          | string       |\n",
    "| 14 | `temperature`              | Температура тела                                     | double       |\n",
    "| 15 | `pO2_saturation`           | Уровень насыщения кислородом                         | double       |\n",
    "| 16 | `leukocyte_count`          | Кол-во лейкоцитов                                    | double       |\n",
    "| 17 | `neutrophil_count`         | Кол-во нейтрофилов                                   | double       |\n",
    "| 18 | `lymphocyte_count`         | Кол-во лимфоцитов                                    | double       |\n",
    "| 19 | `view`                     | Проекция снимка (PA, AP, др.)                        | string       |\n",
    "| 20 | `modality`                 | Тип обследования (обычно X-ray)                      | string       |\n",
    "| 21 | `date`                     | Дата проведения обследования                         | string       |\n",
    "| 22 | `location`                 | Больница или город                                   | string       |\n",
    "| 23 | `folder`                   | Папка хранения изображения                           | string       |\n",
    "| 24 | `filename`                 | Имя файла изображения                                | string       |\n",
    "| 25 | `doi`                      | DOI публикации (если есть)                           | string       |\n",
    "| 26 | `url`                      | Ссылка на статью                                     | string       |\n",
    "| 27 | `license`                  | Условия использования                                | string       |\n",
    "| 28 | `clinical_notes`           | Клинические заметки врача                            | string       |\n",
    "| 29 | `other_notes`              | Дополнительные заметки                               | string       |\n",
    "\n",
    "---\n",
    "\n"
   ],
   "id": "2f5418955eb8d455"
  },
  {
   "metadata": {},
   "cell_type": "markdown",
   "source": "## Инициализация Spark-сессии",
   "id": "d761b4fc14bef7eb"
  },
  {
   "metadata": {
    "ExecuteTime": {
     "end_time": "2025-07-08T17:07:50.770428Z",
     "start_time": "2025-07-08T17:07:50.576384Z"
    }
   },
   "cell_type": "code",
   "source": [
    "# Инициализация Spark-сессии\n",
    "spark = SparkSession.builder \\\n",
    "    .appName(\"COVID Monitoring\") \\\n",
    "    .config(\"spark.sql.shuffle.partitions\", \"4\") \\\n",
    "    .getOrCreate()\n",
    "\n",
    "# Загрузка данных из CSV\n",
    "df = spark.read.csv(\"metadata.csv\", header=True, inferSchema=True)"
   ],
   "id": "3e1898d037d57da3",
   "outputs": [],
   "execution_count": 4
  },
  {
   "metadata": {},
   "cell_type": "markdown",
   "source": "## Предобработка данных",
   "id": "5ece872852a0640"
  },
  {
   "metadata": {
    "ExecuteTime": {
     "end_time": "2025-07-08T17:07:57.228043Z",
     "start_time": "2025-07-08T17:07:56.929334Z"
    }
   },
   "cell_type": "code",
   "source": [
    "# Удаление дубликатов\n",
    "df_no_duplicates = df.dropDuplicates()\n",
    "\n",
    "# Подсчёт количества пропущенных значений по всем колонкам\n",
    "column_null_counts = df.select([\n",
    "    count(when(col(c).isNull(), c)).alias(c) for c in df.columns\n",
    "])\n",
    "column_null_counts.show()"
   ],
   "id": "b0527eacb96d48f0",
   "outputs": [
    {
     "name": "stdout",
     "output_type": "stream",
     "text": [
      "+---------+------+---+---+-------+---------------+--------+---------+------------------+--------+------+----------------------+---------+-----------+--------------+---------------+----------------+----------------+----+--------+----+--------+------+--------+---+---+-------+--------------+-----------+\n",
      "|patientid|offset|sex|age|finding|RT_PCR_positive|survival|intubated|intubation_present|went_icu|in_icu|needed_supplemental_O2|extubated|temperature|pO2_saturation|leukocyte_count|neutrophil_count|lymphocyte_count|view|modality|date|location|folder|filename|doi|url|license|clinical_notes|other_notes|\n",
      "+---------+------+---+---+-------+---------------+--------+---------+------------------+--------+------+----------------------+---------+-----------+--------------+---------------+----------------+----------------+----+--------+----+--------+------+--------+---+---+-------+--------------+-----------+\n",
      "|        0|   253| 80|237|      0|            357|     589|      702|               700|     553|   615|                   860|      913|        872|           831|            934|             922|             910|   0|       0| 289|      56|     0|       0|568|  0|    245|           182|        510|\n",
      "+---------+------+---+---+-------+---------------+--------+---------+------------------+--------+------+----------------------+---------+-----------+--------------+---------------+----------------+----------------+----+--------+----+--------+------+--------+---+---+-------+--------------+-----------+\n",
      "\n"
     ]
    }
   ],
   "execution_count": 6
  },
  {
   "metadata": {},
   "cell_type": "markdown",
   "source": [
    "### Проблемы с данными\n",
    "\n",
    "- 🔴 **Большое количество пропусков** в следующих признаках:\n",
    "  - `temperature`, `pO2_saturation`, `leukocyte_count`, `neutrophil_count`, `lymphocyte_count`  \n",
    "    Эти данные потенциально важны для медицинского анализа, но почти не представлены.\n",
    "\n",
    "  - `intubated`, `intubation_present`, `went_icu`, `in_icu`, `needed_supplemental_O2`, `extubated`  \n",
    "    Эти признаки отражают **тяжесть состояния пациента**, однако они тоже содержат множество пропусков.\n",
    "\n",
    "- 🟡 **Слабоинформативные или вспомогательные поля**:\n",
    "  - `folder` — одно и то же значение во всех строках.\n",
    "  - `url`, `doi`, `license`, `clinical_notes`, `other_notes` — представляют вспомогательную информацию, не используемую в анализе/моделировании.\n"
   ],
   "id": "620cacae30c0ee2a"
  },
  {
   "metadata": {},
   "cell_type": "markdown",
   "source": [
    "## Очистка и предварительная обработка данных\n",
    "### 1️⃣ Удаление нерелевантных или сильно пропущенных признаков"
   ],
   "id": "3c54c8ccfd95e5a7"
  },
  {
   "metadata": {
    "ExecuteTime": {
     "end_time": "2025-07-08T17:08:12.990382Z",
     "start_time": "2025-07-08T17:08:12.981430Z"
    }
   },
   "cell_type": "code",
   "source": [
    "# Колонки с множеством пропусков или слабоинформативные\n",
    "columns_to_drop = [\n",
    "    'folder', 'url', 'clinical_notes', 'other_notes', 'license', 'doi',\n",
    "    'temperature', 'pO2_saturation', 'leukocyte_count',\n",
    "    'neutrophil_count', 'lymphocyte_count',\n",
    "    'intubated', 'intubation_present', 'went_icu', 'in_icu',\n",
    "    'needed_supplemental_O2', 'extubated'\n",
    "]\n",
    "\n",
    "# Удаление этих колонок\n",
    "df_cleaned = df.drop(*columns_to_drop)"
   ],
   "id": "2e2e5451f91f0700",
   "outputs": [],
   "execution_count": 7
  },
  {
   "metadata": {},
   "cell_type": "markdown",
   "source": "### 2️⃣ Очистка числовых аномалий",
   "id": "cdc681e31ae5bfd4"
  },
  {
   "metadata": {
    "ExecuteTime": {
     "end_time": "2025-07-08T17:08:14.997715Z",
     "start_time": "2025-07-08T17:08:14.958731Z"
    }
   },
   "cell_type": "code",
   "source": [
    "# Отрицательные значения offset заменим на None (будем потом обрабатывать)\n",
    "df_cleaned = df_cleaned.withColumn(\"offset\", when(col(\"offset\") < 0, None).otherwise(col(\"offset\")))\n",
    "\n",
    "# Значения возраста вне [0, 120] заменим на None\n",
    "df_cleaned = df_cleaned.withColumn(\n",
    "    \"age\", when((col(\"age\") < 0) | (col(\"age\") > 120), None).otherwise(col(\"age\"))\n",
    ")"
   ],
   "id": "c1154f27a6b3cabe",
   "outputs": [],
   "execution_count": 8
  },
  {
   "metadata": {},
   "cell_type": "markdown",
   "source": "### 3️⃣ Обработка пропущенных значений",
   "id": "a11ffbef79bd6cab"
  },
  {
   "metadata": {
    "ExecuteTime": {
     "end_time": "2025-07-08T17:08:17.557306Z",
     "start_time": "2025-07-08T17:08:16.815889Z"
    }
   },
   "cell_type": "code",
   "source": [
    "# offset — заменим на 0\n",
    "df_cleaned = df_cleaned.fillna({\"offset\": 0})\n",
    "\n",
    "# sex — заполним модой\n",
    "mode_sex = df_cleaned.groupBy(\"sex\").count().orderBy(\"count\", ascending=False).first()[0]\n",
    "df_cleaned = df_cleaned.fillna({\"sex\": mode_sex})\n",
    "\n",
    "# age — заполним медианой\n",
    "median_age = df.approxQuantile(\"age\", [0.5], 0.01)[0]\n",
    "df_cleaned = df_cleaned.fillna({\"age\": median_age})\n",
    "\n",
    "# RT_PCR_positive, survival, location — заменим на \"Unknown\"\n",
    "df_cleaned = df_cleaned.fillna({\n",
    "    \"RT_PCR_positive\": \"Unknown\",\n",
    "    \"survival\": \"Unknown\",\n",
    "    \"location\": \"Unknown\"\n",
    "})"
   ],
   "id": "bce5ea7d4f9fb960",
   "outputs": [],
   "execution_count": 9
  },
  {
   "metadata": {},
   "cell_type": "markdown",
   "source": "### 4️⃣ Обработка даты",
   "id": "b99d3b4f04536580"
  },
  {
   "metadata": {
    "ExecuteTime": {
     "end_time": "2025-07-08T17:08:20.567955Z",
     "start_time": "2025-07-08T17:08:19.614486Z"
    }
   },
   "cell_type": "code",
   "source": [
    "# Безопасное преобразование строки в дату\n",
    "def parse_date_safe(date_str):\n",
    "    try:\n",
    "        return datetime.datetime.strptime(date_str, \"%B %d, %Y\").date()\n",
    "    except:\n",
    "        try:\n",
    "            return datetime.date(int(date_str), 1, 1)\n",
    "        except:\n",
    "            return None\n",
    "\n",
    "parse_date_udf = udf(parse_date_safe, DateType())\n",
    "\n",
    "# Преобразуем колонку date в тип int (год)\n",
    "df_cleaned = df_cleaned.withColumn(\"parsed_date\", parse_date_udf(col(\"date\")))\n",
    "df_cleaned = df_cleaned.withColumn(\"date\", year(col(\"parsed_date\")))\n",
    "df_cleaned = df_cleaned.drop(\"parsed_date\")\n",
    "\n",
    "# Пропуски в date — заполним модой\n",
    "mode_date = df_cleaned.groupBy(\"date\").count().orderBy(\"count\", ascending=False).first()[0]\n",
    "df_cleaned = df_cleaned.fillna({\"date\": mode_date})"
   ],
   "id": "8dbd68c39268b60a",
   "outputs": [
    {
     "name": "stderr",
     "output_type": "stream",
     "text": [
      "                                                                                \r"
     ]
    }
   ],
   "execution_count": 10
  },
  {
   "metadata": {},
   "cell_type": "markdown",
   "source": "### 5️⃣ Финальная проверка пропусков",
   "id": "b79bb65a47ac07ed"
  },
  {
   "metadata": {
    "ExecuteTime": {
     "end_time": "2025-07-08T17:08:22.648213Z",
     "start_time": "2025-07-08T17:08:22.446609Z"
    }
   },
   "cell_type": "code",
   "source": [
    "# Убедимся, что пропущенных значений больше нет\n",
    "df_cleaned.select([\n",
    "    count(when(col(c).isNull(), c)).alias(c) for c in df_cleaned.columns\n",
    "]).show()"
   ],
   "id": "d388f1b2cd9c2d6e",
   "outputs": [
    {
     "name": "stdout",
     "output_type": "stream",
     "text": [
      "+---------+------+---+---+-------+---------------+--------+----+--------+----+--------+--------+\n",
      "|patientid|offset|sex|age|finding|RT_PCR_positive|survival|view|modality|date|location|filename|\n",
      "+---------+------+---+---+-------+---------------+--------+----+--------+----+--------+--------+\n",
      "|        0|     0|  0|  0|      0|              0|       0|   0|       0|   0|       0|       0|\n",
      "+---------+------+---+---+-------+---------------+--------+----+--------+----+--------+--------+\n",
      "\n"
     ]
    }
   ],
   "execution_count": 11
  },
  {
   "metadata": {},
   "cell_type": "markdown",
   "source": "### 6️⃣ Нормализация и унификация диагнозов",
   "id": "fab15681df0c8a43"
  },
  {
   "metadata": {
    "ExecuteTime": {
     "end_time": "2025-07-08T17:08:27.439411Z",
     "start_time": "2025-07-08T17:08:27.400403Z"
    }
   },
   "cell_type": "code",
   "source": [
    "# Приводим диагноз к нижнему регистру и удаляем лишние пробелы\n",
    "df_cleaned = df_cleaned.withColumn(\"finding\", lower(trim(col(\"finding\"))))\n",
    "\n",
    "# Унификация диагнозов\n",
    "df_cleaned = df_cleaned.withColumn(\"finding\",\n",
    "    when(col(\"finding\").contains(\"covid\"), \"covid\")\n",
    "    .when(col(\"finding\").contains(\"sars\"), \"sars\")\n",
    "    .when(col(\"finding\").contains(\"mers\"), \"mers\")\n",
    "    .when(col(\"finding\").contains(\"tuberculosis\"), \"tuberculosis\")\n",
    "    .when(col(\"finding\").contains(\"bacterial\"), \"bacterial pneumonia\")\n",
    "    .when(col(\"finding\").contains(\"fungal\"), \"fungal pneumonia\")\n",
    "    .when(col(\"finding\").contains(\"aspiration\"), \"aspiration pneumonia\")\n",
    "    .when(col(\"finding\").contains(\"no finding\"), \"no finding\")\n",
    "    .otherwise(\"Unknown\")\n",
    ")"
   ],
   "id": "1dcff44d6317acb8",
   "outputs": [],
   "execution_count": 12
  },
  {
   "metadata": {},
   "cell_type": "markdown",
   "source": "### 7️⃣ Создание возрастных групп",
   "id": "e1401fcc4f4ef330"
  },
  {
   "metadata": {
    "ExecuteTime": {
     "end_time": "2025-07-08T17:08:30.258169Z",
     "start_time": "2025-07-08T17:08:30.241532Z"
    }
   },
   "cell_type": "code",
   "source": [
    "# Создадим возрастные группы\n",
    "df_cleaned = df_cleaned.withColumn(\n",
    "    \"age_group\",\n",
    "    when(df_cleaned.age < 18, \"child\")\n",
    "    .when((df_cleaned.age >= 18) & (df_cleaned.age < 60), \"adult\")\n",
    "    .otherwise(\"senior\")\n",
    ")"
   ],
   "id": "73049acf4e812ed1",
   "outputs": [],
   "execution_count": 13
  },
  {
   "metadata": {},
   "cell_type": "markdown",
   "source": [
    "## 🗂️ Подготовка структуры датасета для загрузки в HDFS\n",
    "### 🧾 Создание структуры локального датасета"
   ],
   "id": "d0397fd1f0bf0fe9"
  },
  {
   "metadata": {
    "ExecuteTime": {
     "end_time": "2025-07-08T17:08:34.819042Z",
     "start_time": "2025-07-08T17:08:34.814283Z"
    }
   },
   "cell_type": "code",
   "source": [
    "# Функция создания структуры и распределения изображений по категориям\n",
    "def create_dataset_structure(data_frame):\n",
    "    local_base = \"covid_dataset\"\n",
    "    image_base = os.path.join(local_base, \"images\")\n",
    "    metadata_dir = os.path.join(local_base, \"metadata\")\n",
    "    processed_dir = os.path.join(local_base, \"processed\")\n",
    "    \n",
    "    # Классы для сортировки\n",
    "    categories = [\"mers\", \"covid\", \"sars\", \"pneumonia\", \"tuberculosis\"]\n",
    "    \n",
    "    # 1. Создание директорий\n",
    "    os.makedirs(processed_dir, exist_ok=True)\n",
    "    os.makedirs(metadata_dir, exist_ok=True)\n",
    "    for cat in categories + [\"other\"]:\n",
    "        os.makedirs(os.path.join(image_base, cat), exist_ok=True)\n",
    "\n",
    "    # 2. Сохранение очищенного датафрейма\n",
    "    csv_path = os.path.join(metadata_dir, \"metadata_cleaned.csv\")\n",
    "    parquet_path = os.path.join(metadata_dir, \"metadata_cleaned.parquet\")\n",
    "\n",
    "    # Сохраняем в CSV и Parquet (перезапись при необходимости)\n",
    "    data_frame.write.mode(\"overwrite\").csv(csv_path, header=True)\n",
    "    data_frame.write.mode(\"overwrite\").parquet(parquet_path)\n",
    "\n",
    "    # 3. Распределение изображений по папкам\n",
    "    rows = data_frame.select(\"filename\", \"finding\").collect()\n",
    "    source_images_dir = \"images\"\n",
    "\n",
    "    for row in rows:\n",
    "        filename = row[\"filename\"]\n",
    "        label = (row[\"finding\"] or \"\").lower()\n",
    "        folder = next((cat for cat in categories if cat in label), \"other\")\n",
    "\n",
    "        src = os.path.join(source_images_dir, filename)\n",
    "        dst = os.path.join(image_base, folder, filename)\n",
    "\n",
    "        if os.path.exists(src):\n",
    "            shutil.copy(src, dst)\n",
    "        else:\n",
    "            print(f\" Файл не найден: {src}\")\n"
   ],
   "id": "1920b7444b9f39cd",
   "outputs": [],
   "execution_count": 14
  },
  {
   "metadata": {},
   "cell_type": "markdown",
   "source": [
    "### ▶️ Запуск функции (один раз)\n",
    "#### Примечание: раскомментируйте строку ниже (create_dataset_structure) для запуска. Убедитесь, что в папке images/ находятся исходные изображения."
   ],
   "id": "d969fdc88220e757"
  },
  {
   "metadata": {
    "ExecuteTime": {
     "end_time": "2025-07-08T17:08:59.658029Z",
     "start_time": "2025-07-08T17:08:56.763268Z"
    }
   },
   "cell_type": "code",
   "source": [
    "# Выполняем структуру и распределение файлов\n",
    "# create_dataset_structure(df_cleaned)"
   ],
   "id": "3783216a1a7d5ec6",
   "outputs": [
    {
     "name": "stderr",
     "output_type": "stream",
     "text": [
      "                                                                                \r"
     ]
    },
    {
     "name": "stdout",
     "output_type": "stream",
     "text": [
      " Файл не найден: images/radiopaedia_org_covid-19-pneumonia-7_85703_0-dcm.nii.gz\n",
      " Файл не найден: images/radiopaedia_org_covid-19-pneumonia-14_85914_0-dcm.nii.gz\n",
      " Файл не найден: images/coronacases_org_001.nii.gz\n",
      " Файл не найден: images/coronacases_org_002.nii.gz\n",
      " Файл не найден: images/coronacases_org_003.nii.gz\n",
      " Файл не найден: images/coronacases_org_004.nii.gz\n",
      " Файл не найден: images/coronacases_org_005.nii.gz\n",
      " Файл не найден: images/coronacases_org_006.nii.gz\n",
      " Файл не найден: images/coronacases_org_007.nii.gz\n",
      " Файл не найден: images/coronacases_org_008.nii.gz\n",
      " Файл не найден: images/coronacases_org_009.nii.gz\n",
      " Файл не найден: images/coronacases_org_010.nii.gz\n",
      " Файл не найден: images/radiopaedia_org_covid-19-pneumonia-4_85506_1-dcm.nii.gz\n",
      " Файл не найден: images/radiopaedia_org_covid-19-pneumonia-29_86490_1-dcm.nii.gz\n",
      " Файл не найден: images/radiopaedia_org_covid-19-pneumonia-29_86491_1-dcm.nii.gz\n",
      " Файл не найден: images/radiopaedia_org_covid-19-pneumonia-23_86359_0-dcm.nii.gz\n",
      " Файл не найден: images/radiopaedia_org_covid-19-pneumonia-10_85902_1-dcm.nii.gz\n",
      " Файл не найден: images/radiopaedia_org_covid-19-pneumonia-10_85902_3-dcm.nii.gz\n",
      " Файл не найден: images/radiopaedia_org_covid-19-pneumonia-36_86526_0-dcm.nii.gz\n",
      " Файл не найден: images/radiopaedia_org_covid-19-pneumonia-27_86410_0-dcm.nii.gz\n",
      " Файл не найден: images/radiopaedia_org_covid-19-pneumonia-40_86625_0-dcm.nii.gz\n"
     ]
    }
   ],
   "execution_count": 15
  },
  {
   "metadata": {},
   "cell_type": "markdown",
   "source": [
    "### 📤 Загрузка в HDFS (выполняется в терминале)\n",
    "#### ✅ После выполнения данные и изображения будут доступны в HDFS для последующей обработки и анализа на кластере."
   ],
   "id": "3b27e7c1ea7a5a9c"
  },
  {
   "metadata": {
    "ExecuteTime": {
     "end_time": "2025-07-07T21:18:30.572600Z",
     "start_time": "2025-07-07T21:18:30.569784Z"
    }
   },
   "cell_type": "code",
   "source": [
    "# Загрузка всей структуры в вашу HDFS-директорию\n",
    "# hdfs dfs -put -f covid_dataset /user/<ваше_имя_пользователя>/"
   ],
   "id": "f357bbb0b61902bb",
   "outputs": [],
   "execution_count": 148
  },
  {
   "metadata": {},
   "cell_type": "markdown",
   "source": [
    "### Должна получится такая структура\n",
    "![Описание картинки](screens/ShooterScreenshot-2000-08-07-25.png)"
   ],
   "id": "86145101a832e3a8"
  },
  {
   "metadata": {},
   "cell_type": "markdown",
   "source": [
    "## 🧠 SQL-аналитика по очищенным данным\n",
    "### 🧱 1. Перезапуск Spark с поддержкой Hive"
   ],
   "id": "f5fcba16bd3cfd26"
  },
  {
   "metadata": {
    "ExecuteTime": {
     "end_time": "2025-07-08T17:11:05.942112Z",
     "start_time": "2025-07-08T17:11:05.323737Z"
    }
   },
   "cell_type": "code",
   "source": [
    "# Перезапускаем Spark-сессию с Hive\n",
    "spark.stop()  # ← Раскомментируйте, если сессия уже была запущена\n",
    "\n",
    "spark = SparkSession.builder \\\n",
    "    .appName(\"COVID Analysis with Hive\") \\\n",
    "    .config(\"spark.sql.warehouse.dir\", \"/home/artniz/hive/warehouse\") \\\n",
    "    .config(\"spark.sql.catalogImplementation\", \"hive\") \\\n",
    "    .enableHiveSupport() \\\n",
    "    .getOrCreate()"
   ],
   "id": "fcde2863fe122075",
   "outputs": [],
   "execution_count": 19
  },
  {
   "metadata": {},
   "cell_type": "markdown",
   "source": "### 📥 2. Загрузка очищенных данных из HDFS",
   "id": "286754dc22b0aeaf"
  },
  {
   "metadata": {
    "ExecuteTime": {
     "end_time": "2025-07-08T17:11:08.568878Z",
     "start_time": "2025-07-08T17:11:08.392622Z"
    }
   },
   "cell_type": "code",
   "source": [
    "# Загружаем очищенный parquet-файл из HDFS\n",
    "df_loaded = spark.read.parquet(\"hdfs://localhost:9000/user/artniz/covid_dataset/metadata/metadata_cleaned.parquet\")\n",
    "\n",
    "# Проверка количества строк — должно быть 950\n",
    "print(\"Количество строк:\", df_loaded.count())"
   ],
   "id": "f8e8028481070272",
   "outputs": [
    {
     "name": "stdout",
     "output_type": "stream",
     "text": [
      "Количество строк: 950\n"
     ]
    }
   ],
   "execution_count": 20
  },
  {
   "metadata": {},
   "cell_type": "markdown",
   "source": "### 📦 3. Сохранение в Hive с партиционированием и бакетированием",
   "id": "f90edcb777a2df7d"
  },
  {
   "metadata": {
    "ExecuteTime": {
     "end_time": "2025-07-08T17:11:11.256707Z",
     "start_time": "2025-07-08T17:11:10.254208Z"
    }
   },
   "cell_type": "code",
   "source": [
    "# Сохраняем в Hive-таблицу с партиционированием по finding и бакетированием по age\n",
    "df_loaded.write \\\n",
    "    .partitionBy(\"finding\") \\\n",
    "    .bucketBy(8, \"age\") \\\n",
    "    .sortBy(\"age\") \\\n",
    "    .mode(\"overwrite\") \\\n",
    "    .format(\"parquet\") \\\n",
    "    .saveAsTable(\"covid_metadata_bucketed\")"
   ],
   "id": "4e72c5fcb8c46c4d",
   "outputs": [
    {
     "name": "stderr",
     "output_type": "stream",
     "text": [
      "25/07/08 20:11:11 WARN SessionState: METASTORE_FILTER_HOOK will be ignored, since hive.security.authorization.manager is set to instance of HiveAuthorizerFactory.\n",
      "25/07/08 20:11:11 WARN HiveConf: HiveConf of name hive.internal.ss.authz.settings.applied.marker does not exist\n"
     ]
    }
   ],
   "execution_count": 21
  },
  {
   "metadata": {},
   "cell_type": "markdown",
   "source": [
    "### Должна появится таблица Hive с партицированием\n",
    "![Описание картинки](screens/ShooterScreenshot-2001-08-07-25.png)"
   ],
   "id": "5ef94eac20e61a90"
  },
  {
   "metadata": {},
   "cell_type": "markdown",
   "source": "### 🔎 4. Базовая проверка — первые строки",
   "id": "16fc72cc3fb77e0d"
  },
  {
   "metadata": {
    "ExecuteTime": {
     "end_time": "2025-07-08T17:15:54.525915Z",
     "start_time": "2025-07-08T17:15:54.286585Z"
    }
   },
   "cell_type": "code",
   "source": [
    "# Просмотр примеров пациентов старше 50\n",
    "spark.sql(\"\"\"\n",
    "    SELECT * \n",
    "    FROM covid_metadata_bucketed \n",
    "    WHERE age > 50\n",
    "\"\"\").show(5)\n"
   ],
   "id": "8b1d34b6b6434f8",
   "outputs": [
    {
     "name": "stdout",
     "output_type": "stream",
     "text": [
      "+---------+------+---+---+---------------+--------+---------+--------+----+--------------------+--------------------+---------+-------+\n",
      "|patientid|offset|sex|age|RT_PCR_positive|survival|     view|modality|date|            location|            filename|age_group|finding|\n",
      "+---------+------+---+---+---------------+--------+---------+--------+----+--------------------+--------------------+---------+-------+\n",
      "|       18|     5|  F| 53|        Unclear| Unknown|       PA|   X-ray|2020|Jinling Hospital,...|radiol.2020200490...|    adult|  covid|\n",
      "|       53|     0|  M| 53|              Y| Unknown|AP Supine|   X-ray|2020|               Italy|446B2CB6-B572-40A...|    adult|  covid|\n",
      "|      181|     5|  F| 53|              Y| Unknown|       AP|   X-ray|2020|GZA Sint-Augustin...|       16674_1_1.jpg|    adult|  covid|\n",
      "|        6|     0|  M| 54|              Y| Unknown|       PA|   X-ray|2020|Wuhan Jinyintan H...|   lancet-case2a.jpg|    adult|  covid|\n",
      "|        6|     4|  M| 54|              Y| Unknown|       PA|   X-ray|2020|Wuhan Jinyintan H...|   lancet-case2b.jpg|    adult|  covid|\n",
      "+---------+------+---+---+---------------+--------+---------+--------+----+--------------------+--------------------+---------+-------+\n",
      "only showing top 5 rows\n"
     ]
    }
   ],
   "execution_count": 22
  },
  {
   "metadata": {},
   "cell_type": "markdown",
   "source": [
    "## 📊 SQL-запросы для аналитики\n",
    "### 🧮 5. Оконная функция\n",
    "Задача: для каждого пациента определить, сколько пациентов с тем же диагнозом были моложе или такого же возраста."
   ],
   "id": "8e2d50538dd4afe7"
  },
  {
   "metadata": {
    "ExecuteTime": {
     "end_time": "2025-07-08T17:15:58.692174Z",
     "start_time": "2025-07-08T17:15:58.291591Z"
    }
   },
   "cell_type": "code",
   "source": [
    "spark.sql(\n",
    "    \"\"\"\n",
    "    SELECT\n",
    "      patientid,\n",
    "      finding,\n",
    "      age,\n",
    "      COUNT(*) OVER (\n",
    "        PARTITION BY finding\n",
    "        ORDER BY age\n",
    "        ROWS BETWEEN UNBOUNDED PRECEDING AND CURRENT ROW\n",
    "      ) AS younger_or_same_age_count\n",
    "    FROM\n",
    "      covid_metadata_bucketed\n",
    "    WHERE finding != 'Unknown'\n",
    "    \"\"\"\n",
    ").show()"
   ],
   "id": "eef8c5d0be6b7fce",
   "outputs": [
    {
     "name": "stdout",
     "output_type": "stream",
     "text": [
      "+---------+--------------------+---+-------------------------+\n",
      "|patientid|             finding|age|younger_or_same_age_count|\n",
      "+---------+--------------------+---+-------------------------+\n",
      "|      415|aspiration pneumonia| 74|                        1|\n",
      "|       31| bacterial pneumonia| 25|                        1|\n",
      "|       31| bacterial pneumonia| 25|                        2|\n",
      "|       31| bacterial pneumonia| 25|                        3|\n",
      "|       31| bacterial pneumonia| 25|                        4|\n",
      "|      373| bacterial pneumonia| 28|                        5|\n",
      "|      373| bacterial pneumonia| 28|                        6|\n",
      "|       30| bacterial pneumonia| 30|                        7|\n",
      "|      455| bacterial pneumonia| 30|                        8|\n",
      "|      461| bacterial pneumonia| 30|                        9|\n",
      "|      409| bacterial pneumonia| 35|                       10|\n",
      "|       87| bacterial pneumonia| 40|                       11|\n",
      "|       87| bacterial pneumonia| 40|                       12|\n",
      "|       87| bacterial pneumonia| 40|                       13|\n",
      "|      462| bacterial pneumonia| 40|                       14|\n",
      "|      462| bacterial pneumonia| 40|                       15|\n",
      "|      462| bacterial pneumonia| 40|                       16|\n",
      "|      462| bacterial pneumonia| 40|                       17|\n",
      "|       88| bacterial pneumonia| 45|                       18|\n",
      "|       88| bacterial pneumonia| 45|                       19|\n",
      "+---------+--------------------+---+-------------------------+\n",
      "only showing top 20 rows\n"
     ]
    }
   ],
   "execution_count": 23
  },
  {
   "metadata": {},
   "cell_type": "markdown",
   "source": [
    "### 🔗 6. Джойн с агрегированной статистикой\n",
    "Задача: агрегировать статистику по возрасту (средний, максимум, количество) для каждого finding и соединить с основной таблицей."
   ],
   "id": "455f0732a53e4ba8"
  },
  {
   "metadata": {
    "ExecuteTime": {
     "end_time": "2025-07-08T17:16:05.709149Z",
     "start_time": "2025-07-08T17:16:05.150613Z"
    }
   },
   "cell_type": "code",
   "source": [
    "spark.sql(\n",
    "    \"\"\"\n",
    "    CREATE OR REPLACE TEMP VIEW finding_stats AS\n",
    "    SELECT\n",
    "      finding,\n",
    "      COUNT(*) AS total_cases,\n",
    "      AVG(age) AS avg_age,\n",
    "      MAX(age) AS max_age\n",
    "    FROM\n",
    "      covid_metadata_bucketed\n",
    "    GROUP BY\n",
    "      finding\n",
    "    \"\"\"\n",
    ")\n",
    "# Теперь соединим её с основной таблицей по finding\n",
    "spark.sql(\n",
    "    \"\"\"\n",
    "    SELECT\n",
    "      main.patientid,\n",
    "      main.finding,\n",
    "      main.age,\n",
    "      stats.total_cases,\n",
    "      stats.avg_age,\n",
    "      stats.max_age\n",
    "    FROM\n",
    "      covid_metadata_bucketed main\n",
    "    JOIN\n",
    "      finding_stats stats\n",
    "    ON\n",
    "      main.finding = stats.finding\n",
    "    \"\"\"\n",
    ").show()"
   ],
   "id": "698337c3d2594939",
   "outputs": [
    {
     "name": "stdout",
     "output_type": "stream",
     "text": [
      "+---------+-------+---+-----------+-----------------+-------+\n",
      "|patientid|finding|age|total_cases|          avg_age|max_age|\n",
      "+---------+-------+---+-----------+-----------------+-------+\n",
      "|      471|  covid| 20|        584|55.77568493150685|     94|\n",
      "|      471|  covid| 20|        584|55.77568493150685|     94|\n",
      "|      471|  covid| 20|        584|55.77568493150685|     94|\n",
      "|      471|  covid| 20|        584|55.77568493150685|     94|\n",
      "|      184|  covid| 29|        584|55.77568493150685|     94|\n",
      "|      184|  covid| 29|        584|55.77568493150685|     94|\n",
      "|       85|  covid| 30|        584|55.77568493150685|     94|\n",
      "|      144|  covid| 30|        584|55.77568493150685|     94|\n",
      "|      144|  covid| 30|        584|55.77568493150685|     94|\n",
      "|      174|  covid| 30|        584|55.77568493150685|     94|\n",
      "|      183|  covid| 30|        584|55.77568493150685|     94|\n",
      "|      183|  covid| 30|        584|55.77568493150685|     94|\n",
      "|     350a|  covid| 30|        584|55.77568493150685|     94|\n",
      "|     350a|  covid| 30|        584|55.77568493150685|     94|\n",
      "|     350b|  covid| 30|        584|55.77568493150685|     94|\n",
      "|     350c|  covid| 30|        584|55.77568493150685|     94|\n",
      "|       76|  covid| 40|        584|55.77568493150685|     94|\n",
      "|       83|  covid| 40|        584|55.77568493150685|     94|\n",
      "|      134|  covid| 40|        584|55.77568493150685|     94|\n",
      "|      149|  covid| 40|        584|55.77568493150685|     94|\n",
      "+---------+-------+---+-----------+-----------------+-------+\n",
      "only showing top 20 rows\n"
     ]
    }
   ],
   "execution_count": 24
  },
  {
   "metadata": {},
   "cell_type": "markdown",
   "source": "### 🧠 7. Подзапрос: пациенты старше среднего по диагнозу",
   "id": "719e6745c1250341"
  },
  {
   "metadata": {
    "ExecuteTime": {
     "end_time": "2025-07-08T17:16:09.634576Z",
     "start_time": "2025-07-08T17:16:09.153208Z"
    }
   },
   "cell_type": "code",
   "source": [
    "spark.sql(\n",
    "    \"\"\"\n",
    "    SELECT\n",
    "      patientid,\n",
    "      finding,\n",
    "      age\n",
    "    FROM\n",
    "      covid_metadata_bucketed\n",
    "    WHERE\n",
    "      age > (\n",
    "        SELECT AVG(age)\n",
    "        FROM covid_metadata_bucketed AS sub\n",
    "        WHERE sub.finding = covid_metadata_bucketed.finding\n",
    "      )\n",
    "    \"\"\"\n",
    ").show()"
   ],
   "id": "98346dd6513669e3",
   "outputs": [
    {
     "name": "stdout",
     "output_type": "stream",
     "text": [
      "+---------+-------+---+\n",
      "|patientid|finding|age|\n",
      "+---------+-------+---+\n",
      "|       71|  covid| 61|\n",
      "|       71|  covid| 61|\n",
      "|       71|  covid| 61|\n",
      "|      119|  covid| 61|\n",
      "|      180|  covid| 61|\n",
      "|      189|  covid| 61|\n",
      "|      288|  covid| 61|\n",
      "|      288|  covid| 61|\n",
      "|      291|  covid| 61|\n",
      "|      291|  covid| 61|\n",
      "|      291|  covid| 61|\n",
      "|      338|  covid| 61|\n",
      "|      338|  covid| 61|\n",
      "|       48|  covid| 68|\n",
      "|     311a|  covid| 68|\n",
      "|       41|  covid| 71|\n",
      "|       45|  covid| 71|\n",
      "|       60|  covid| 71|\n",
      "|      118|  covid| 71|\n",
      "|      161|  covid| 71|\n",
      "+---------+-------+---+\n",
      "only showing top 20 rows\n"
     ]
    }
   ],
   "execution_count": 25
  },
  {
   "metadata": {},
   "cell_type": "markdown",
   "source": [
    "## ⚙️ Обработка в PySpark и кластеризация пациентов\n",
    "### 🩺 Унификация диагнозов \"pneumonia\"\n",
    "Мы объединяем все подтипы пневмонии (bacterial, fungal, aspiration) в один общий класс — pneumonia"
   ],
   "id": "4dec6e0ccce54aa3"
  },
  {
   "metadata": {
    "ExecuteTime": {
     "end_time": "2025-07-08T17:16:16.670614Z",
     "start_time": "2025-07-08T17:16:15.977713Z"
    }
   },
   "cell_type": "code",
   "source": [
    "# UDF для унификации диагноза\n",
    "def unify_pneumonia(finding):\n",
    "    if finding is None:\n",
    "        return None\n",
    "    finding_lower = finding.lower()\n",
    "    if \"pneumonia\" in finding_lower:\n",
    "        return \"pneumonia\"\n",
    "    return finding_lower.strip()\n",
    "\n",
    "unify_diagnosis_udf = udf(unify_pneumonia, StringType())\n",
    "\n",
    "# Применяем UDF к колонке finding\n",
    "df_loaded = df_loaded.withColumn(\"finding\", unify_diagnosis_udf(df_loaded.finding))\n",
    "\n",
    "# Проверяем уникальные диагнозы после унификации\n",
    "df_loaded.select(\"finding\").distinct().show(truncate=False)"
   ],
   "id": "92afb0f1fd25efed",
   "outputs": [
    {
     "name": "stdout",
     "output_type": "stream",
     "text": [
      "+------------+\n",
      "|finding     |\n",
      "+------------+\n",
      "|unknown     |\n",
      "|tuberculosis|\n",
      "|sars        |\n",
      "|pneumonia   |\n",
      "|covid       |\n",
      "|no finding  |\n",
      "|mers        |\n",
      "+------------+\n",
      "\n"
     ]
    }
   ],
   "execution_count": 26
  },
  {
   "metadata": {},
   "cell_type": "markdown",
   "source": "### 🧹 Фильтрация по диагнозу \"pneumonia\" и экспорт в HDFS",
   "id": "f937c9b8d42581fe"
  },
  {
   "metadata": {
    "ExecuteTime": {
     "end_time": "2025-07-08T17:16:26.243196Z",
     "start_time": "2025-07-08T17:16:25.500284Z"
    }
   },
   "cell_type": "code",
   "source": [
    "# Фильтруем строки только с диагнозом \"pneumonia\"\n",
    "df_pneumonia = df_loaded.filter(df_loaded.finding == \"pneumonia\")\n",
    "\n",
    "# Сохраняем результат в HDFS в отдельную папку\n",
    "df_pneumonia.write.mode(\"overwrite\").parquet(\"hdfs://localhost:9000/user/artniz/covid_dataset/processed\")\n"
   ],
   "id": "97563ed1ad775313",
   "outputs": [
    {
     "name": "stderr",
     "output_type": "stream",
     "text": [
      "                                                                                \r"
     ]
    }
   ],
   "execution_count": 27
  },
  {
   "metadata": {},
   "cell_type": "markdown",
   "source": [
    "## 🤖 Простая кластеризация пациентов по возрасту и полу\n",
    "### 📌 Цель: Разделить пациентов на кластеры по признакам возраста и пола."
   ],
   "id": "ffdf0c1acda4d82b"
  },
  {
   "metadata": {
    "ExecuteTime": {
     "end_time": "2025-07-08T17:17:17.997315Z",
     "start_time": "2025-07-08T17:17:17.116069Z"
    }
   },
   "cell_type": "code",
   "source": [
    "# Берем только нужные признаки\n",
    "data = df_loaded.select(\"age\", \"sex\")\n",
    "\n",
    "# Преобразуем строковый пол в числовой индекс\n",
    "indexer = StringIndexer(inputCol=\"sex\", outputCol=\"sex_index\")\n",
    "\n",
    "# Собираем признаки в вектор\n",
    "assembler = VectorAssembler(inputCols=[\"age\", \"sex_index\"], outputCol=\"features\")\n",
    "\n",
    "# Обучаем KMeans на 3 кластера\n",
    "kmeans = KMeans(k=3, seed=1, featuresCol=\"features\", predictionCol=\"cluster\")\n",
    "\n",
    "# Сборка всего в пайплайн\n",
    "pipeline = Pipeline(stages=[indexer, assembler, kmeans])\n",
    "model = pipeline.fit(data)\n",
    "\n",
    "# Применение модели к данным\n",
    "clustered = model.transform(data)\n",
    "\n",
    "# Смотрим результат кластеризации\n",
    "clustered.select(\"age\", \"sex\", \"cluster\").show(30, truncate=False)"
   ],
   "id": "50d1538b6d4a055f",
   "outputs": [
    {
     "name": "stdout",
     "output_type": "stream",
     "text": [
      "+---+---+-------+\n",
      "|age|sex|cluster|\n",
      "+---+---+-------+\n",
      "|65 |M  |2      |\n",
      "|65 |M  |2      |\n",
      "|65 |M  |2      |\n",
      "|65 |M  |2      |\n",
      "|52 |F  |0      |\n",
      "|52 |F  |0      |\n",
      "|54 |M  |0      |\n",
      "|54 |M  |0      |\n",
      "|54 |M  |0      |\n",
      "|74 |M  |2      |\n",
      "|74 |M  |2      |\n",
      "|74 |M  |2      |\n",
      "|29 |F  |1      |\n",
      "|29 |F  |1      |\n",
      "|42 |F  |1      |\n",
      "|46 |F  |0      |\n",
      "|46 |F  |0      |\n",
      "|73 |F  |2      |\n",
      "|73 |F  |2      |\n",
      "|73 |F  |2      |\n",
      "|56 |M  |0      |\n",
      "|42 |M  |1      |\n",
      "|35 |M  |1      |\n",
      "|35 |M  |1      |\n",
      "|35 |M  |1      |\n",
      "|35 |M  |1      |\n",
      "|35 |M  |1      |\n",
      "|35 |M  |1      |\n",
      "|35 |M  |1      |\n",
      "|54 |F  |0      |\n",
      "+---+---+-------+\n",
      "only showing top 30 rows\n"
     ]
    }
   ],
   "execution_count": 30
  },
  {
   "metadata": {},
   "cell_type": "markdown",
   "source": "## Визуализация эпидемиологических данных\n",
   "id": "cff0793d55423d9b"
  },
  {
   "metadata": {
    "ExecuteTime": {
     "end_time": "2025-07-08T17:17:23.806641Z",
     "start_time": "2025-07-08T17:17:23.801148Z"
    }
   },
   "cell_type": "code",
   "source": [
    "def visualize_epidemiology(df):\n",
    "    \"\"\"\n",
    "    Визуализирует ключевые эпидемиологические показатели и характеристики пациентов.\n",
    "    df — очищенный Spark DataFrame.\n",
    "    \"\"\"\n",
    "    \n",
    "    # 1. Распределение диагнозов\n",
    "    print(\"Частота встречаемости диагнозов позволяет выявить доминирующие заболевания.\\n\")\n",
    "    \n",
    "    df_finding = df.groupBy(\"finding\").count().orderBy(\"count\", ascending=False).toPandas()\n",
    "\n",
    "    plt.figure(figsize=(10, 6))\n",
    "    plt.bar(df_finding['finding'], df_finding['count'], color='cornflowerblue')\n",
    "    plt.xticks(rotation=45, ha='right')\n",
    "    plt.title(\"Распределение диагнозов (finding)\")\n",
    "    plt.xlabel(\"Диагноз\")\n",
    "    plt.ylabel(\"Количество\")\n",
    "    plt.tight_layout()\n",
    "    plt.show()\n",
    "    \n",
    "    # 2. Гистограмма возраста\n",
    "    print(\"Анализ распределения возраста показывает, какие возрастные группы преобладают.\\n\")\n",
    "    \n",
    "    df_age = df.select(\"age\").dropna().toPandas()\n",
    "\n",
    "    plt.figure(figsize=(8, 5))\n",
    "    plt.hist(df_age['age'], bins=20, color='salmon', edgecolor='black')\n",
    "    plt.title(\"Распределение возраста пациентов\")\n",
    "    plt.xlabel(\"Возраст\")\n",
    "    plt.ylabel(\"Количество\")\n",
    "    plt.grid(True)\n",
    "    plt.tight_layout()\n",
    "    plt.show()\n",
    "\n",
    "    # 3. Диагноз по полу (stacked bar)\n",
    "    print(\"Сравнение полов по каждому диагнозу — для выявления гендерных различий.\\n\")\n",
    "    \n",
    "    df_gender_diag = df.groupBy(\"finding\", \"sex\").count().toPandas()\n",
    "    pivot = df_gender_diag.pivot(index=\"finding\", columns=\"sex\", values=\"count\").fillna(0)\n",
    "\n",
    "    pivot.plot(kind='bar', stacked=True, figsize=(10, 6), colormap='Pastel1')\n",
    "    plt.title(\"Диагнозы по полу\")\n",
    "    plt.xlabel(\"Диагноз\")\n",
    "    plt.ylabel(\"Количество\")\n",
    "    plt.xticks(rotation=45, ha='right')\n",
    "    plt.tight_layout()\n",
    "    plt.show()\n",
    "\n",
    "    # 4. Boxplot возраста по полу\n",
    "    print(\"Диапазоны и медианы возраста по полу. Это полезно для анализа риска.\\n\")\n",
    "    \n",
    "    df_box = df.select(\"age\", \"sex\").dropna().toPandas()\n",
    "\n",
    "    plt.figure(figsize=(6, 5))\n",
    "    df_box.boxplot(column='age', by='sex')\n",
    "    plt.title(\"Распределение возраста по полу\")\n",
    "    plt.suptitle(\"\")\n",
    "    plt.xlabel(\"Пол\")\n",
    "    plt.ylabel(\"Возраст\")\n",
    "    plt.grid(True)\n",
    "    plt.tight_layout()\n",
    "    plt.show()\n",
    "\n",
    "    # 5. Хронология по дате\n",
    "    print(\"Тренд обращений по датам помогает выявить всплески эпидемии.\\n\")\n",
    "    \n",
    "    df_time = df.groupBy(\"date\").count().orderBy(\"date\").toPandas()\n",
    "\n",
    "    plt.figure(figsize=(10, 5))\n",
    "    plt.plot(df_time['date'], df_time['count'], marker='o', linestyle='-', color='green')\n",
    "    plt.title(\"Хронологическое распределение обращений\")\n",
    "    plt.xlabel(\"Дата\")\n",
    "    plt.ylabel(\"Количество пациентов\")\n",
    "    plt.xticks(rotation=45)\n",
    "    plt.grid(True)\n",
    "    plt.tight_layout()\n",
    "    plt.show()\n"
   ],
   "id": "172d45f95f95e533",
   "outputs": [],
   "execution_count": 31
  },
  {
   "metadata": {},
   "cell_type": "markdown",
   "source": [
    "## Запуск визуализации\n",
    "\n",
    "Вызов функции визуализации на загруженном и очищенном датасете `df_loaded`."
   ],
   "id": "521375b8cbd093a8"
  },
  {
   "metadata": {
    "ExecuteTime": {
     "end_time": "2025-07-08T17:17:27.227120Z",
     "start_time": "2025-07-08T17:17:25.983880Z"
    }
   },
   "cell_type": "code",
   "source": "visualize_epidemiology(df_loaded)",
   "id": "1ffe0e80417aa28a",
   "outputs": [
    {
     "name": "stdout",
     "output_type": "stream",
     "text": [
      "Частота встречаемости диагнозов позволяет выявить доминирующие заболевания.\n",
      "\n"
     ]
    },
    {
     "data": {
      "text/plain": [
       "<Figure size 1000x600 with 1 Axes>"
      ],
      "image/png": "[encoded data removed]"
     },
     "metadata": {},
     "output_type": "display_data"
    },
    {
     "name": "stdout",
     "output_type": "stream",
     "text": [
      "Анализ распределения возраста показывает, какие возрастные группы преобладают.\n",
      "\n"
     ]
    },
    {
     "data": {
      "text/plain": [
       "<Figure size 800x500 with 1 Axes>"
      ],
      "image/png": "[encoded data removed]"
     },
     "metadata": {},
     "output_type": "display_data"
    },
    {
     "name": "stdout",
     "output_type": "stream",
     "text": [
      "Сравнение полов по каждому диагнозу — для выявления гендерных различий.\n",
      "\n"
     ]
    },
    {
     "data": {
      "text/plain": [
       "<Figure size 1000x600 with 1 Axes>"
      ],
      "image/png": "[encoded data removed]"
     },
     "metadata": {},
     "output_type": "display_data"
    },
    {
     "name": "stdout",
     "output_type": "stream",
     "text": [
      "Диапазоны и медианы возраста по полу. Это полезно для анализа риска.\n",
      "\n"
     ]
    },
    {
     "data": {
      "text/plain": [
       "<Figure size 600x500 with 0 Axes>"
      ]
     },
     "metadata": {},
     "output_type": "display_data"
    },
    {
     "data": {
      "text/plain": [
       "<Figure size 640x480 with 1 Axes>"
      ],
      "image/png": "[encoded data removed]"
     },
     "metadata": {},
     "output_type": "display_data"
    },
    {
     "name": "stdout",
     "output_type": "stream",
     "text": [
      "Тренд обращений по датам помогает выявить всплески эпидемии.\n",
      "\n"
     ]
    },
    {
     "data": {
      "text/plain": [
       "<Figure size 1000x500 with 1 Axes>"
      ],
      "image/png": "[encoded data removed]"
     },
     "metadata": {},
     "output_type": "display_data"
    }
   ],
   "execution_count": 32
  },
  {
   "metadata": {},
   "cell_type": "markdown",
   "source": [
    "# ✅ Вывод\n",
    "\n",
    "В рамках проекта была проведена комплексная обработка и анализ медицинского датасета пациентов с респираторными заболеваниями.\n",
    "\n",
    "## Этап подготовки данных включал:\n",
    "- очистку от дубликатов и пропусков;\n",
    "- удаление нерелевантных и сильно повреждённых признаков;\n",
    "- стандартизацию форматов и преобразование категориальных признаков;\n",
    "- оптимизацию хранения данных через партиционирование и бакетирование.\n",
    "\n",
    "## Аналитический блок позволил:\n",
    "- выявить основные эпидемиологические закономерности:\n",
    "  - преобладание пациентов мужского пола (особенно в возрастной группе 50+);\n",
    "  - доминирование COVID-19 среди диагнозов;\n",
    "- построить серию визуализаций, подтверждающих вышеуказанные наблюдения;\n",
    "- реализовать кластеризацию пациентов по полу и возрасту для выявления скрытых групп риска.\n",
    "\n",
    "Несмотря на недостатки датасета (высокая доля пропусков, неоднородность форматов), нам удалось подготовить рабочую основу для дальнейшей аналитики и машинного обучения.\n",
    "\n",
    "---\n",
    "\n",
    "## Итог\n",
    "\n",
    "Получена гибкая, масштабируемая архитектура:\n",
    "\n",
    "**HDFS → Hive → Spark → ML / визуализация**\n",
    "\n",
    "которая может быть расширена до прогностических моделей и полноценных дашбордов для поддержки принятия решений в здравоохранении.\n"
   ],
   "id": "6f2aa65c360556ce"
  }
 ],
 "metadata": {
  "kernelspec": {
   "display_name": "Python 3",
   "language": "python",
   "name": "python3"
  },
  "language_info": {
   "codemirror_mode": {
    "name": "ipython",
    "version": 2
   },
   "file_extension": ".py",
   "mimetype": "text/x-python",
   "name": "python",
   "nbconvert_exporter": "python",
   "pygments_lexer": "ipython2",
   "version": "2.7.6"
  }
 },
 "nbformat": 4,
 "nbformat_minor": 5
}
